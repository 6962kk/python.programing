{
 "cells": [
  {
   "cell_type": "markdown",
   "id": "49cba450-dcc1-4057-bc97-0a17c69eef61",
   "metadata": {},
   "source": [
    "# 설명충"
   ]
  },
  {
   "cell_type": "code",
   "execution_count": 1,
   "id": "70376d3c-d53f-444a-8918-cb8fc074e672",
   "metadata": {},
   "outputs": [
    {
     "name": "stdout",
     "output_type": "stream",
     "text": [
      "hello world\n"
     ]
    }
   ],
   "source": [
    "print('hello world')"
   ]
  }
 ],
 "metadata": {
  "kernelspec": {
   "display_name": "Python 3 (ipykernel)",
   "language": "python",
   "name": "python3"
  },
  "language_info": {
   "codemirror_mode": {
    "name": "ipython",
    "version": 3
   },
   "file_extension": ".py",
   "mimetype": "text/x-python",
   "name": "python",
   "nbconvert_exporter": "python",
   "pygments_lexer": "ipython3",
   "version": "3.9.7"
  }
 },
 "nbformat": 4,
 "nbformat_minor": 5
}
